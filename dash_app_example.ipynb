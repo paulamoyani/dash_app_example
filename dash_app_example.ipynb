{
 "cells": [
  {
   "cell_type": "code",
   "execution_count": 4,
   "metadata": {},
   "outputs": [
    {
     "name": "stdout",
     "output_type": "stream",
     "text": [
      " * Serving Flask app \"__main__\" (lazy loading)\n",
      " * Environment: production\n",
      "   WARNING: This is a development server. Do not use it in a production deployment.\n",
      "   Use a production WSGI server instead.\n",
      " * Debug mode: off\n"
     ]
    },
    {
     "name": "stderr",
     "output_type": "stream",
     "text": [
      " * Running on http://127.0.0.1:8050/ (Press CTRL+C to quit)\n",
      "//anaconda3/lib/python3.7/site-packages/dash/resources.py:75: UserWarning:\n",
      "\n",
      "You have set your config to `serve_locally=True` but A local version of https://codepen.io/chriddyp/pen/bWLwgP.css is not available.\n",
      "If you added this file with `app.scripts.append_script` or `app.css.append_css`, use `external_scripts` or `external_stylesheets` instead.\n",
      "See https://dash.plot.ly/external-resources\n",
      "\n",
      "127.0.0.1 - - [25/Nov/2019 14:37:40] \"GET / HTTP/1.1\" 200 -\n",
      "127.0.0.1 - - [25/Nov/2019 14:37:40] \"GET /_dash-component-suites/dash_renderer/react@16.v1_2_0m1573478077.8.6.min.js HTTP/1.1\" 200 -\n",
      "127.0.0.1 - - [25/Nov/2019 14:37:40] \"GET /_dash-component-suites/dash_renderer/react-dom@16.v1_2_0m1573478077.8.6.min.js HTTP/1.1\" 200 -\n",
      "127.0.0.1 - - [25/Nov/2019 14:37:40] \"GET /_dash-component-suites/dash_renderer/prop-types@15.v1_2_0m1573478077.7.2.min.js HTTP/1.1\" 200 -\n",
      "127.0.0.1 - - [25/Nov/2019 14:37:40] \"GET /_dash-component-suites/dash_core_components/highlight.v1_5_0m1573478078.pack.js HTTP/1.1\" 200 -\n",
      "127.0.0.1 - - [25/Nov/2019 14:37:40] \"GET /_dash-component-suites/dash_html_components/dash_html_components.v1_0_1m1573478079.min.js HTTP/1.1\" 200 -\n",
      "127.0.0.1 - - [25/Nov/2019 14:37:40] \"GET /_dash-component-suites/dash_core_components/dash_core_components.v1_5_0m1573478078.min.js HTTP/1.1\" 200 -\n",
      "127.0.0.1 - - [25/Nov/2019 14:37:40] \"GET /_dash-component-suites/dash_renderer/dash_renderer.v1_2_0m1573478077.min.js HTTP/1.1\" 200 -\n",
      "127.0.0.1 - - [25/Nov/2019 14:37:40] \"GET /_dash-layout HTTP/1.1\" 200 -\n",
      "127.0.0.1 - - [25/Nov/2019 14:37:40] \"GET /_dash-dependencies HTTP/1.1\" 200 -\n",
      "127.0.0.1 - - [25/Nov/2019 14:37:41] \"POST /_dash-update-component HTTP/1.1\" 200 -\n",
      "127.0.0.1 - - [25/Nov/2019 14:37:42] \"GET /_favicon.ico?v=1.6.0 HTTP/1.1\" 200 -\n"
     ]
    }
   ],
   "source": [
    "import dash\n",
    "from dash.dependencies import Input, Output\n",
    "import dash_core_components as dcc\n",
    "import dash_html_components as html\n",
    "\n",
    "app = dash.Dash(__name__)\n",
    "server = app.server\n",
    "\n",
    "app.layout = html.Div([\n",
    "    dcc.Input(id='my-id', value='initial value', type=\"text\"),\n",
    "    html.Div(id='my-div')\n",
    "])\n",
    "app.css.append_css({\"external_url\": \"https://codepen.io/chriddyp/pen/bWLwgP.css\"})\n",
    "\n",
    "@app.callback(\n",
    "    Output(component_id='my-div', component_property='children'),\n",
    "    [Input(component_id='my-id', component_property='value')]\n",
    ")\n",
    "def update_output_div(input_value):\n",
    "    return 'You\\'ve entered. WOW!!! \"{}\"'.format(input_value)\n",
    "\n",
    "if __name__ == '__main__':\n",
    "    app.run_server()\n"
   ]
  },
  {
   "cell_type": "code",
   "execution_count": null,
   "metadata": {},
   "outputs": [],
   "source": []
  }
 ],
 "metadata": {
  "kernelspec": {
   "display_name": "Python 3",
   "language": "python",
   "name": "python3"
  },
  "language_info": {
   "codemirror_mode": {
    "name": "ipython",
    "version": 3
   },
   "file_extension": ".py",
   "mimetype": "text/x-python",
   "name": "python",
   "nbconvert_exporter": "python",
   "pygments_lexer": "ipython3",
   "version": "3.7.3"
  }
 },
 "nbformat": 4,
 "nbformat_minor": 2
}
